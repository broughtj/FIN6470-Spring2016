{
 "cells": [
  {
   "cell_type": "markdown",
   "metadata": {},
   "source": [
    "# __Finance 6470 Lectures Notes: Introduction to the Binomial Option Pricing Model__\n",
    "\n",
    "<br>\n",
    "\n",
    "Finance 6470: Derivatives Markets <br>\n",
    "Tyler J. Brough <br>\n",
    "Last Updated: April 4, 2019 <br>\n",
    "<br>\n",
    "<br>"
   ]
  },
  {
   "cell_type": "markdown",
   "metadata": {},
   "source": [
    "What follows is a derivation of the single-period Binomial option pricing formula. This derivation is slightly different than the one found in your textbook.\n",
    "I use different variable names than the text in order to be more consistent with the Black-Scholes model. \n",
    "\n",
    "<br>\n",
    "\n",
    "To fix ideas, recall that our simple assumption of binomial prices leads to two binomial trees: one for the stock price, and one for the option price:\n",
    "\n",
    "<br>"
   ]
  },
  {
   "cell_type": "markdown",
   "metadata": {},
   "source": [
    "<br>\n",
    "\n",
    "<img src=\"images/Stock-Tree.png\" width=\"400\">\n",
    "\n",
    "<br>"
   ]
  },
  {
   "cell_type": "markdown",
   "metadata": {},
   "source": [
    "<br>\n",
    "\n",
    "<img src=\"images/Option-Tree.png\" width=\"400\">\n",
    "\n",
    "<br>"
   ]
  },
  {
   "cell_type": "markdown",
   "metadata": {},
   "source": [
    "The basic idea of the Binomial Option Pricing Model is to set up a replicating portfolio to synthetically\n",
    "replicate the European call option payoff. This lead to a simple equation:\n",
    "\n",
    "<br>\n",
    "\n",
    "$$\n",
    "C_{0} = \\Delta S + B\n",
    "$$\n",
    "\n",
    "<br>"
   ]
  },
  {
   "cell_type": "markdown",
   "metadata": {},
   "source": [
    "where $\\Delta$ and $B$ are chosen with care so as to perfectly replicate the call option. This begs the\n",
    "question: just how are $\\Delta$ and $B$ chosen? We can solve for these parameters by noting that the following\n",
    "must hold:\n",
    "\n",
    "<br>\n",
    "\n",
    "$$\n",
    "\\begin{eqnarray*}\n",
    " C_{u} &=& \\Delta \\times u S + B e^{rh} \\\\\n",
    " C_{d} &=& \\Delta \\times d S + B e^{rh} \\\\\n",
    "\\end{eqnarray*}\n",
    "$$\n",
    "\n",
    "<br>"
   ]
  },
  {
   "cell_type": "markdown",
   "metadata": {},
   "source": [
    "We can now see how to solve for these parameters. First we will solve for $B e^{rh}$ in the second equation\n",
    "as follows:\n",
    "\n",
    "<br>\n",
    "\n",
    "$$\n",
    "B e^{rh} = C_{d} - \\Delta \\times d S\n",
    "$$\n",
    "\n",
    "<br>\n",
    "\n",
    "and plug it into the first for $B e^{rh}$ as follows:\n",
    "\n",
    "$$\n",
    "C_{u} = \\Delta \\times u S + C_{d} - \\Delta d S\n",
    "$$\n",
    "\n",
    "<br>\n",
    "\n",
    "We notice that $B$ has now disappeared from the first equation and we can solve for $\\Delta$ as follows:\n",
    "\n",
    "<br>\n",
    "\n",
    "$$\n",
    "\\Delta S (u - d) = C_{u} - C_{d}\n",
    "$$\n",
    "\n",
    "<br>\n",
    "\n",
    "which leads to:\n",
    "\n",
    "<br>\n",
    "\n",
    "$$\n",
    "\\Delta = \\frac{C_{u} - C_{d}}{S(u-d)}\n",
    "$$\n",
    "\n",
    "<br>\n"
   ]
  },
  {
   "cell_type": "markdown",
   "metadata": {},
   "source": [
    "So now we have solved for the correct value of $\\Delta$ that gives us the number of shares we need to hold\n",
    "in our portfolio to synthetically replicate the call option.  We can now plug this $\\Delta$ into\n",
    "$B e^{rh} = C_{d} - \\Delta \\times dS$ to get an equation, for which the only unknown is $B$ and solve for it.\n",
    "We do this as follows:\n",
    "\n",
    "<br>\n",
    "\n",
    "$$\n",
    "B e^{rh} = C_{d} - \\left(\\frac{C_{u} - C_{d}}{S(u-d)}\\right) \\times d S\n",
    "$$\n",
    "\n",
    "<br>\n",
    "\n",
    "which we can rearrange as:\n",
    "\n",
    "<br>\n",
    "\n",
    "$$\n",
    "\\begin{eqnarray*}\n",
    "B e^{rh} &=& C_{d} \\times \\frac{(u-d)}{(u-d)} - \\left(\\frac{d C_{u} - d C_{d}}{u-d}\\right) \\\\\n",
    "         &=& \\frac{u C_{d} - d C_{d} - d C_{u} + d C_{d}}{u-d} \\\\\n",
    "         &=& \\frac{u C_{d} - d C_{u}}{u-d}\n",
    "\\end{eqnarray*}\n",
    "$$\n",
    "\n",
    "<br>"
   ]
  },
  {
   "cell_type": "markdown",
   "metadata": {},
   "source": [
    "Finally, we can multiply both sides of the equation by $e^{-rh}$ to get the following:\n",
    "\n",
    "<br>\n",
    "\n",
    "$$\n",
    "B = e^{-rh} \\left( \\frac{u C_{d} - d C_{u}}{u-d} \\right)\n",
    "$$\n",
    "\n",
    "<br>\n",
    "\n",
    "\n",
    "We now know what the values of $\\Delta$ and $B$ need to be to perfectly replicate the call option. Since\n",
    "we can observe these quantities, we can figure out by applying the __law of one price__ (or in\n",
    "other words by assuming no arbitrage opportunities exist) the equilibrium price of the call option\n",
    "now, or $C_{0}$.\n",
    "\n",
    "<br>"
   ]
  },
  {
   "cell_type": "markdown",
   "metadata": {},
   "source": [
    "We simply plug in for $\\Delta$ and $B$ in the following:\n",
    "\n",
    "<br>\n",
    "\n",
    "$$\n",
    "\\begin{eqnarray*}\n",
    "C_{0} &=& \\Delta \\times S + B \\\\\n",
    "      &=& \\left( \\frac{C_{u} - C_{d}}{S(u-d)} \\right) \\times S + e^{-rh} \\left( \\frac{u C_{d} - d C_{u}}{u-d} \\right) \\\\\n",
    "\\end{eqnarray*}\n",
    "$$\n",
    "\n",
    "<br>"
   ]
  },
  {
   "cell_type": "markdown",
   "metadata": {},
   "source": [
    "Essentially we could stop here.  We are done.  We have derived the single--period Binomial Option Pricing Model. But\n",
    "we will keep working to rearrange this equation to express it in such a manner to get even more deep intuition from it.\n",
    "We can rewrite the model as follows:\n",
    "\n",
    "<br>\n",
    "\n",
    "$$\n",
    "\\begin{eqnarray*}\n",
    "C_{0} &=& \\left( \\frac{C_{u} - C_{d}}{S(u-d)} \\right) \\times S + e^{-rh} \\left( \\frac{u C_{d} - d C_{u}}{u-d} \\right) \\\\\n",
    "      &=& \\left( \\frac{C_{u} - C_{d}}{(u-d)} \\right) + e^{-rh} \\left( \\frac{u C_{d} - d C_{u}}{u-d} \\right) \\\\\n",
    "      &=& e^{-rh} \\left( \\frac{e^{rh} C_{u} - e^{rh} C_{d} + u C_{d} - d C_{u}}{u-d} \\right) \\\\\n",
    "      &=& e^{-rh} \\left(C_{u} \\frac{e^{rh} - d}{u-d} + C_{d} \\frac{u - e^{rh}}{u-d} \\right)\n",
    "\\end{eqnarray*}\n",
    "$$\n",
    "\n",
    "<br>"
   ]
  },
  {
   "cell_type": "markdown",
   "metadata": {},
   "source": [
    "Finally, we can let $p_{u}^{\\ast} = \\frac{e^{rh} - d}{u-d}$ and $p_{d}^{\\ast} = \\frac{u - e^{rh}}{u-d}$. Now we can write the\n",
    "model simply as:\n",
    "\n",
    "<br>\n",
    "\n",
    "$$\n",
    "C_{0} = e^{-rh} \\left[ C_{u} p_{u}^{\\ast} + C_{d} p_{d}^{\\ast} \\right]\n",
    "$$\n",
    "\n",
    "<br>"
   ]
  },
  {
   "cell_type": "code",
   "execution_count": null,
   "metadata": {},
   "outputs": [],
   "source": []
  }
 ],
 "metadata": {
  "kernelspec": {
   "display_name": "Python 3",
   "language": "python",
   "name": "python3"
  },
  "language_info": {
   "codemirror_mode": {
    "name": "ipython",
    "version": 3
   },
   "file_extension": ".py",
   "mimetype": "text/x-python",
   "name": "python",
   "nbconvert_exporter": "python",
   "pygments_lexer": "ipython3",
   "version": "3.7.1"
  }
 },
 "nbformat": 4,
 "nbformat_minor": 2
}

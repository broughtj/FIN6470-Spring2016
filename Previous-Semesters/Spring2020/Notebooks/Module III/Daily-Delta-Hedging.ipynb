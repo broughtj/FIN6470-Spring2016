{
 "cells": [
  {
   "cell_type": "markdown",
   "metadata": {},
   "source": [
    "# __Delta-Hedging Simulations__\n",
    "\n",
    "<br>\n",
    "\n",
    "Finance 6470: Derivatives Markets <br>\n",
    "Tyler J. Brough <br>\n",
    "Last Update: April 22, 2019 <br>\n",
    "<br>"
   ]
  },
  {
   "cell_type": "code",
   "execution_count": 21,
   "metadata": {},
   "outputs": [],
   "source": [
    "import enum\n",
    "import numpy as np\n",
    "import pandas as pd\n",
    "import matplotlib.pyplot as plt\n",
    "from scipy.stats import norm\n",
    "plt.rcParams['figure.figsize'] = [20, 10]"
   ]
  },
  {
   "cell_type": "code",
   "execution_count": 10,
   "metadata": {},
   "outputs": [],
   "source": [
    "def bsmCall(S, K, v, r, t, q):\n",
    "    d1 = ((np.log(S/K) + (r - q + 0.5 * v * v)*t) / (v * np.sqrt(t)))\n",
    "    d2 = d1 - v * np.sqrt(t)\n",
    "    prc = S * np.exp(-q * t) * norm.cdf(d1) - K * np.exp(-r * t) * norm.cdf(d2)\n",
    "    \n",
    "    return prc"
   ]
  },
  {
   "cell_type": "code",
   "execution_count": 11,
   "metadata": {},
   "outputs": [],
   "source": [
    "def bsmPut(S,K,v,r,t,q):\n",
    "    d1 = ((np.log(S/K) + (r - q + 0.5 * v * v)*t) / (v * np.sqrt(t)))\n",
    "    d2 = d1 - v * np.sqrt(t)\n",
    "    prc = K * np.exp(-r * t) * norm.cdf(-d2) - S * np.exp(-q * t) * norm.cdf(-d1)\n",
    "    \n",
    "    return prc"
   ]
  },
  {
   "cell_type": "code",
   "execution_count": 12,
   "metadata": {},
   "outputs": [],
   "source": [
    "def bsmCallDelta(S, K, v, r, t, q):\n",
    "    d1 = ((np.log(S/K) + (r - q + 0.5 * v * v)*t) / (v * np.sqrt(t)))\n",
    "    delta = np.exp(-q * t) * norm.cdf(d1) \n",
    "    \n",
    "    return delta"
   ]
  },
  {
   "cell_type": "code",
   "execution_count": 13,
   "metadata": {},
   "outputs": [],
   "source": [
    "def bsmPutDelta(S, K, v, r, t, q):\n",
    "    d1 = ((np.log(S/K) + (r - q + 0.5 * v * v)*t) / (v * np.sqrt(t)))\n",
    "    delta = np.exp(-q * t) * norm.cdf(-d1) \n",
    "    \n",
    "    return delta"
   ]
  },
  {
   "cell_type": "code",
   "execution_count": 14,
   "metadata": {},
   "outputs": [],
   "source": [
    "def bsmGamma(S, K, v, r, t, q):\n",
    "    d1 = ((np.log(S/K) + (r - q + 0.5 * v * v)*t) / (v * np.sqrt(t)))\n",
    "    gamma = (np.exp(-q * t) * norm.pdf(d1)) / (S * v * np.sqrt(t))\n",
    "    \n",
    "    return gamma"
   ]
  },
  {
   "cell_type": "code",
   "execution_count": 68,
   "metadata": {},
   "outputs": [
    {
     "name": "stdout",
     "output_type": "stream",
     "text": [
      "The Call Price:  2.7804\n",
      "The Call Delta:  0.5824\n",
      "The Call Gamma:  0.0652\n"
     ]
    }
   ],
   "source": [
    "## An example (see McDonald 3rd pp. 383, Table 13.1)\n",
    "S = 40.0\n",
    "K = 40.0\n",
    "v = 0.30\n",
    "r = 0.08\n",
    "tau = 91/365\n",
    "q = 0.0\n",
    "\n",
    "callPrc = bsmCall(S, K, v, r, tau, q)\n",
    "callDelta = bsmCallDelta(S, K, v, r, tau, q)\n",
    "callGamma = bsmGamma(S, K, v, r, tau, q)\n",
    "print(f\"The Call Price: {callPrc : 0.4f}\")\n",
    "print(f\"The Call Delta: {callDelta : 0.4f}\")\n",
    "print(f\"The Call Gamma: {callGamma : 0.4f}\")"
   ]
  },
  {
   "cell_type": "code",
   "execution_count": null,
   "metadata": {},
   "outputs": [],
   "source": []
  },
  {
   "cell_type": "code",
   "execution_count": null,
   "metadata": {},
   "outputs": [],
   "source": []
  },
  {
   "cell_type": "code",
   "execution_count": 167,
   "metadata": {},
   "outputs": [],
   "source": [
    "class MarketMaker(object):\n",
    "    def __init__(self, spot, strike, vol, rate, expiry, div, pricer, delta):\n",
    "        self.__spot = spot\n",
    "        self.__strike = strike\n",
    "        self.__vol = vol\n",
    "        self.__rate = rate\n",
    "        self.__expiry = expiry\n",
    "        self.__dt = 1/365\n",
    "        self.__div = div\n",
    "        self.__pricer = pricer\n",
    "        self.__delta = delta\n",
    "        self.__units = 100.0\n",
    "        self.__option = self.__units * self.__pricer(self.__spot, self.__strike, self.__vol, self.__rate, self.__expiry, self.__div)\n",
    "        self.__option_delta = self.__units * self.__delta(self.__spot, self.__strike, self.__vol, self.__rate, self.__expiry, self.__div)\n",
    "        self.__market_value = self.__option_delta * self.__spot - self.__option\n",
    "        self.__interest = 0.0\n",
    "        self.__capital_gain = 0.0\n",
    "        self.__profit = 0.0\n",
    "              \n",
    "    def show(self):\n",
    "        print(\"Stock ($): \\t\\t{0:.2f}\".format(self.__spot))\n",
    "        print(\"Option ($): \\t\\t{0:.2f}\".format(self.__option))\n",
    "        print(\"100 x Delta: \\t\\t{0:.2f}\".format(self.__option_delta))\n",
    "        print(\"Investment ($): \\t{0:0.2f}\".format(self.__market_value))\n",
    "        print(\"Interest ($): \\t\\t{0:0.2f}\".format(self.__interest))\n",
    "        print(\"Capital Gain ($): \\t{0:0.2f}\".format(self.__capital_gain))\n",
    "        print(\"Daily Profit ($): \\t{0:0.2f}\".format(self.__profit))\n",
    "        print(\"\\n\")\n",
    "\n",
    "    def update(self, spot):\n",
    "        mktVal = self.__market_value\n",
    "        optDelta = self.__option_delta\n",
    "        self.__interest = -(np.exp(self.__rate / 365) - 1.0) * mktVal\n",
    "        self.__spot = spot\n",
    "        self.__expiry -= self.__dt\n",
    "        self.__option = self.__units * self.__pricer(self.__spot, self.__strike, self.__vol, self.__rate, self.__expiry, self.__div)\n",
    "        self.__option_delta = self.__units * self.__delta(self.__spot, self.__strike, self.__vol, self.__rate, self.__expiry, self.__div)\n",
    "        self.__market_value = self.__option_delta * self.__spot - self.__option\n",
    "        self.__capital_gain = self.__market_value - mktVal - (spot * (self.__option_delta - optDelta))\n",
    "        self.__profit = self.__market_value - mktVal - (spot * (self.__option_delta - optDelta)) + self.__interest"
   ]
  },
  {
   "cell_type": "code",
   "execution_count": 169,
   "metadata": {},
   "outputs": [
    {
     "name": "stdout",
     "output_type": "stream",
     "text": [
      "Day t=0\n",
      "-------------------------------\n",
      "Stock ($): \t\t40.00\n",
      "Option ($): \t\t278.04\n",
      "100 x Delta: \t\t58.24\n",
      "Investment ($): \t2051.58\n",
      "Interest ($): \t\t0.00\n",
      "Capital Gain ($): \t0.00\n",
      "Daily Profit ($): \t0.00\n",
      "\n",
      "\n",
      "Day t=1\n",
      "-------------------------------\n",
      "Stock ($): \t\t40.50\n",
      "Option ($): \t\t306.21\n",
      "100 x Delta: \t\t61.42\n",
      "Investment ($): \t2181.31\n",
      "Interest ($): \t\t-0.45\n",
      "Capital Gain ($): \t0.95\n",
      "Daily Profit ($): \t0.50\n",
      "\n",
      "\n",
      "Day t=2\n",
      "-------------------------------\n",
      "Stock ($): \t\t39.25\n",
      "Option ($): \t\t232.82\n",
      "100 x Delta: \t\t53.11\n",
      "Investment ($): \t1851.65\n",
      "Interest ($): \t\t-0.48\n",
      "Capital Gain ($): \t-3.39\n",
      "Daily Profit ($): \t-3.87\n",
      "\n",
      "\n",
      "Day t=3\n",
      "-------------------------------\n",
      "Stock ($): \t\t38.75\n",
      "Option ($): \t\t205.46\n",
      "100 x Delta: \t\t49.56\n",
      "Investment ($): \t1715.12\n",
      "Interest ($): \t\t-0.41\n",
      "Capital Gain ($): \t0.81\n",
      "Daily Profit ($): \t0.40\n",
      "\n",
      "\n",
      "Day t=4\n",
      "-------------------------------\n",
      "Stock ($): \t\t40.00\n",
      "Option ($): \t\t271.04\n",
      "100 x Delta: \t\t58.06\n",
      "Investment ($): \t2051.35\n",
      "Interest ($): \t\t-0.38\n",
      "Capital Gain ($): \t-3.62\n",
      "Daily Profit ($): \t-4.00\n",
      "\n",
      "\n",
      "Day t=5\n",
      "-------------------------------\n",
      "Stock ($): \t\t40.00\n",
      "Option ($): \t\t269.27\n",
      "100 x Delta: \t\t58.01\n",
      "Investment ($): \t2051.29\n",
      "Interest ($): \t\t-0.45\n",
      "Capital Gain ($): \t1.77\n",
      "Daily Profit ($): \t1.32\n",
      "\n",
      "\n"
     ]
    }
   ],
   "source": [
    "## See McDonald 3rd pp. 386, Table 13.2\n",
    "spot_t = [40.50, 39.25, 38.75, 40.0, 40.0]\n",
    "mm = MarketMaker(S, K, v, r, tau, q, bsmCall, bsmCallDelta)\n",
    "\n",
    "print(\"Day t={0:d}\".format(0))\n",
    "print(\"-------------------------------\")\n",
    "mm.show()\n",
    "\n",
    "for t, spot in enumerate(spot_t):\n",
    "    mm.update(spot)\n",
    "    print(\"Day t={0:d}\".format(t+1))\n",
    "    print(\"-------------------------------\")\n",
    "    mm.show()"
   ]
  },
  {
   "cell_type": "code",
   "execution_count": null,
   "metadata": {},
   "outputs": [],
   "source": []
  },
  {
   "cell_type": "code",
   "execution_count": null,
   "metadata": {},
   "outputs": [],
   "source": []
  },
  {
   "cell_type": "code",
   "execution_count": null,
   "metadata": {},
   "outputs": [],
   "source": []
  },
  {
   "cell_type": "code",
   "execution_count": null,
   "metadata": {},
   "outputs": [],
   "source": []
  },
  {
   "cell_type": "code",
   "execution_count": null,
   "metadata": {},
   "outputs": [],
   "source": []
  },
  {
   "cell_type": "code",
   "execution_count": null,
   "metadata": {},
   "outputs": [],
   "source": []
  },
  {
   "cell_type": "code",
   "execution_count": null,
   "metadata": {},
   "outputs": [],
   "source": []
  }
 ],
 "metadata": {
  "kernelspec": {
   "display_name": "Python 3",
   "language": "python",
   "name": "python3"
  },
  "language_info": {
   "codemirror_mode": {
    "name": "ipython",
    "version": 3
   },
   "file_extension": ".py",
   "mimetype": "text/x-python",
   "name": "python",
   "nbconvert_exporter": "python",
   "pygments_lexer": "ipython3",
   "version": "3.7.1"
  }
 },
 "nbformat": 4,
 "nbformat_minor": 2
}

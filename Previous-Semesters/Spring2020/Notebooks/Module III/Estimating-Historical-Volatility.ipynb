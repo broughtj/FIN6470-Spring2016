{
 "cells": [
  {
   "cell_type": "markdown",
   "metadata": {},
   "source": [
    "# __Finance 6470 Lectures Notes: Estimating Historical Volatility__\n",
    "\n",
    "<br>\n",
    "\n",
    "Finance 6470: Derivatives Markets <br>\n",
    "Tyler J. Brough <br>\n",
    "Last Updated: April 9, 2019 <br>\n",
    "<br>\n",
    "<br>"
   ]
  },
  {
   "cell_type": "markdown",
   "metadata": {},
   "source": [
    "In this notebook I will demonstrate how to estimate historical annualized volatility from daily historical data for IBM from 2003/01/01 to 2003/12/31. \n",
    "\n",
    "<br>\n",
    "\n",
    "## Properties of Continuously Compounded Returns\n",
    "\n",
    "Recall some important properties of continuously compounded returns: \n",
    "\n",
    "* The logarithmic function computes returns from prices\n",
    "\n",
    "$$\n",
    "r_{t,t+h} = \\ln{(S_{t+h}/S_{t})}\n",
    "$$\n",
    "\n",
    "* The exponential function computes prices from returns\n",
    "\n",
    "$$\n",
    "S_{t+h} = S_{t} e^{r_{t,t+h}}\n",
    "$$\n",
    "\n",
    "* Continuously compounded returns are additive\n",
    "\n",
    "<br>"
   ]
  },
  {
   "cell_type": "markdown",
   "metadata": {},
   "source": [
    "## Volatility\n",
    "\n",
    "* Suppose the continuously compounded return over mont $i$ is $r_{monthly, i}$. Since returns are additive, the annual return is\n",
    "\n",
    "$$\n",
    "r_{annual} = \\sum\\limits_{i=1}^{12} r_{monthly,i}\n",
    "$$\n",
    "\n",
    "* The variance of the annual return is \n",
    "\n",
    "$$\n",
    "Var(r_{annual}) = Var(\\sum\\limits_{i=1}^{12} r_{monthly,i})\n",
    "$$\n",
    "\n",
    "<br>"
   ]
  },
  {
   "cell_type": "markdown",
   "metadata": {},
   "source": [
    "## The Standard Deviation of Continuously Compounded Returns\n",
    "\n",
    "* Suppose that returns are uncorrelated over time and that each month has the same variance of returns (big assumption!). The from the above we have\n",
    "\n",
    "$$\n",
    "\\sigma^{2} = 12 \\cdot \\sigma_{monthly}^{2}\n",
    "$$\n",
    "\n",
    "* where $\\sigma^{2}$ denotes the annual variance\n",
    "\n",
    "* Taking the square root of both sides yields\n",
    "\n",
    "$$\n",
    "\\sigma = \\sigma_{monthly} \\cdot \\sqrt{12}\n",
    "$$\n",
    "\n",
    "* To generalize this formula, if we split the year into $n$ periods of length $h$ (so that $h = 1/n$), the standard deviation over the period of length $h$, $\\sigma_{h}$, is\n",
    "\n",
    "$$\n",
    "\\sigma = \\frac{\\sigma_{h}}{\\sqrt{h}}\n",
    "$$\n",
    "\n",
    "* or as\n",
    "\n",
    "$$\n",
    "\\sigma_{h} = \\sigma \\cdot \\sqrt{h}\n",
    "$$\n",
    "\n",
    "<br>\n",
    "\n",
    "__NB:__ this is for $h = 1/n$, so for daily data: $h = 1/252$ and $\\sigma = \\frac{\\sigma_{Daily}}{(1 / \\sqrt{252})} = \\sigma_{Daily} \\cdot \\sqrt{252}$\n",
    "\n",
    "<br>"
   ]
  },
  {
   "cell_type": "code",
   "execution_count": 1,
   "metadata": {},
   "outputs": [],
   "source": [
    "import numpy as np\n",
    "import pandas as pd\n",
    "import matplotlib.pyplot as plt"
   ]
  },
  {
   "cell_type": "code",
   "execution_count": 2,
   "metadata": {},
   "outputs": [],
   "source": [
    "ibm = pd.read_csv(\"./data/IBM-1999-2003.csv\", parse_dates=True, index_col=1)"
   ]
  },
  {
   "cell_type": "code",
   "execution_count": 3,
   "metadata": {},
   "outputs": [
    {
     "data": {
      "text/html": [
       "<div>\n",
       "<style scoped>\n",
       "    .dataframe tbody tr th:only-of-type {\n",
       "        vertical-align: middle;\n",
       "    }\n",
       "\n",
       "    .dataframe tbody tr th {\n",
       "        vertical-align: top;\n",
       "    }\n",
       "\n",
       "    .dataframe thead th {\n",
       "        text-align: right;\n",
       "    }\n",
       "</style>\n",
       "<table border=\"1\" class=\"dataframe\">\n",
       "  <thead>\n",
       "    <tr style=\"text-align: right;\">\n",
       "      <th></th>\n",
       "      <th>PERMNO</th>\n",
       "      <th>TICKER</th>\n",
       "      <th>COMNAM</th>\n",
       "      <th>PERMCO</th>\n",
       "      <th>PRC</th>\n",
       "      <th>RET</th>\n",
       "      <th>CFACPR</th>\n",
       "      <th>RETX</th>\n",
       "      <th>sprtrn</th>\n",
       "    </tr>\n",
       "    <tr>\n",
       "      <th>date</th>\n",
       "      <th></th>\n",
       "      <th></th>\n",
       "      <th></th>\n",
       "      <th></th>\n",
       "      <th></th>\n",
       "      <th></th>\n",
       "      <th></th>\n",
       "      <th></th>\n",
       "      <th></th>\n",
       "    </tr>\n",
       "  </thead>\n",
       "  <tbody>\n",
       "    <tr>\n",
       "      <th>1999-01-04</th>\n",
       "      <td>12490</td>\n",
       "      <td>IBM</td>\n",
       "      <td>INTERNATIONAL BUSINESS MACHS COR</td>\n",
       "      <td>20990</td>\n",
       "      <td>183.0000</td>\n",
       "      <td>-0.007458</td>\n",
       "      <td>2</td>\n",
       "      <td>-0.007458</td>\n",
       "      <td>-0.000919</td>\n",
       "    </tr>\n",
       "    <tr>\n",
       "      <th>1999-01-05</th>\n",
       "      <td>12490</td>\n",
       "      <td>IBM</td>\n",
       "      <td>INTERNATIONAL BUSINESS MACHS COR</td>\n",
       "      <td>20990</td>\n",
       "      <td>189.6250</td>\n",
       "      <td>0.036202</td>\n",
       "      <td>2</td>\n",
       "      <td>0.036202</td>\n",
       "      <td>0.013582</td>\n",
       "    </tr>\n",
       "    <tr>\n",
       "      <th>1999-01-06</th>\n",
       "      <td>12490</td>\n",
       "      <td>IBM</td>\n",
       "      <td>INTERNATIONAL BUSINESS MACHS COR</td>\n",
       "      <td>20990</td>\n",
       "      <td>188.7500</td>\n",
       "      <td>-0.004614</td>\n",
       "      <td>2</td>\n",
       "      <td>-0.004614</td>\n",
       "      <td>0.022140</td>\n",
       "    </tr>\n",
       "    <tr>\n",
       "      <th>1999-01-07</th>\n",
       "      <td>12490</td>\n",
       "      <td>IBM</td>\n",
       "      <td>INTERNATIONAL BUSINESS MACHS COR</td>\n",
       "      <td>20990</td>\n",
       "      <td>190.1875</td>\n",
       "      <td>0.007616</td>\n",
       "      <td>2</td>\n",
       "      <td>0.007616</td>\n",
       "      <td>-0.002051</td>\n",
       "    </tr>\n",
       "    <tr>\n",
       "      <th>1999-01-08</th>\n",
       "      <td>12490</td>\n",
       "      <td>IBM</td>\n",
       "      <td>INTERNATIONAL BUSINESS MACHS COR</td>\n",
       "      <td>20990</td>\n",
       "      <td>187.5625</td>\n",
       "      <td>-0.013802</td>\n",
       "      <td>2</td>\n",
       "      <td>-0.013802</td>\n",
       "      <td>0.004221</td>\n",
       "    </tr>\n",
       "  </tbody>\n",
       "</table>\n",
       "</div>"
      ],
      "text/plain": [
       "            PERMNO TICKER                            COMNAM  PERMCO       PRC  \\\n",
       "date                                                                            \n",
       "1999-01-04   12490    IBM  INTERNATIONAL BUSINESS MACHS COR   20990  183.0000   \n",
       "1999-01-05   12490    IBM  INTERNATIONAL BUSINESS MACHS COR   20990  189.6250   \n",
       "1999-01-06   12490    IBM  INTERNATIONAL BUSINESS MACHS COR   20990  188.7500   \n",
       "1999-01-07   12490    IBM  INTERNATIONAL BUSINESS MACHS COR   20990  190.1875   \n",
       "1999-01-08   12490    IBM  INTERNATIONAL BUSINESS MACHS COR   20990  187.5625   \n",
       "\n",
       "                 RET  CFACPR      RETX    sprtrn  \n",
       "date                                              \n",
       "1999-01-04 -0.007458       2 -0.007458 -0.000919  \n",
       "1999-01-05  0.036202       2  0.036202  0.013582  \n",
       "1999-01-06 -0.004614       2 -0.004614  0.022140  \n",
       "1999-01-07  0.007616       2  0.007616 -0.002051  \n",
       "1999-01-08 -0.013802       2 -0.013802  0.004221  "
      ]
     },
     "execution_count": 3,
     "metadata": {},
     "output_type": "execute_result"
    }
   ],
   "source": [
    "ibm.head()"
   ]
  },
  {
   "cell_type": "code",
   "execution_count": 4,
   "metadata": {},
   "outputs": [
    {
     "data": {
      "text/html": [
       "<div>\n",
       "<style scoped>\n",
       "    .dataframe tbody tr th:only-of-type {\n",
       "        vertical-align: middle;\n",
       "    }\n",
       "\n",
       "    .dataframe tbody tr th {\n",
       "        vertical-align: top;\n",
       "    }\n",
       "\n",
       "    .dataframe thead th {\n",
       "        text-align: right;\n",
       "    }\n",
       "</style>\n",
       "<table border=\"1\" class=\"dataframe\">\n",
       "  <thead>\n",
       "    <tr style=\"text-align: right;\">\n",
       "      <th></th>\n",
       "      <th>PERMNO</th>\n",
       "      <th>TICKER</th>\n",
       "      <th>COMNAM</th>\n",
       "      <th>PERMCO</th>\n",
       "      <th>PRC</th>\n",
       "      <th>RET</th>\n",
       "      <th>CFACPR</th>\n",
       "      <th>RETX</th>\n",
       "      <th>sprtrn</th>\n",
       "    </tr>\n",
       "    <tr>\n",
       "      <th>date</th>\n",
       "      <th></th>\n",
       "      <th></th>\n",
       "      <th></th>\n",
       "      <th></th>\n",
       "      <th></th>\n",
       "      <th></th>\n",
       "      <th></th>\n",
       "      <th></th>\n",
       "      <th></th>\n",
       "    </tr>\n",
       "  </thead>\n",
       "  <tbody>\n",
       "    <tr>\n",
       "      <th>2003-12-24</th>\n",
       "      <td>12490</td>\n",
       "      <td>IBM</td>\n",
       "      <td>INTERNATIONAL BUSINESS MACHS COR</td>\n",
       "      <td>20990</td>\n",
       "      <td>92.27</td>\n",
       "      <td>-0.005604</td>\n",
       "      <td>1</td>\n",
       "      <td>-0.005604</td>\n",
       "      <td>-0.001807</td>\n",
       "    </tr>\n",
       "    <tr>\n",
       "      <th>2003-12-26</th>\n",
       "      <td>12490</td>\n",
       "      <td>IBM</td>\n",
       "      <td>INTERNATIONAL BUSINESS MACHS COR</td>\n",
       "      <td>20990</td>\n",
       "      <td>92.90</td>\n",
       "      <td>0.006828</td>\n",
       "      <td>1</td>\n",
       "      <td>0.006828</td>\n",
       "      <td>0.001691</td>\n",
       "    </tr>\n",
       "    <tr>\n",
       "      <th>2003-12-29</th>\n",
       "      <td>12490</td>\n",
       "      <td>IBM</td>\n",
       "      <td>INTERNATIONAL BUSINESS MACHS COR</td>\n",
       "      <td>20990</td>\n",
       "      <td>93.52</td>\n",
       "      <td>0.006674</td>\n",
       "      <td>1</td>\n",
       "      <td>0.006674</td>\n",
       "      <td>0.012401</td>\n",
       "    </tr>\n",
       "    <tr>\n",
       "      <th>2003-12-30</th>\n",
       "      <td>12490</td>\n",
       "      <td>IBM</td>\n",
       "      <td>INTERNATIONAL BUSINESS MACHS COR</td>\n",
       "      <td>20990</td>\n",
       "      <td>92.63</td>\n",
       "      <td>-0.009517</td>\n",
       "      <td>1</td>\n",
       "      <td>-0.009517</td>\n",
       "      <td>0.000144</td>\n",
       "    </tr>\n",
       "    <tr>\n",
       "      <th>2003-12-31</th>\n",
       "      <td>12490</td>\n",
       "      <td>IBM</td>\n",
       "      <td>INTERNATIONAL BUSINESS MACHS COR</td>\n",
       "      <td>20990</td>\n",
       "      <td>92.68</td>\n",
       "      <td>0.000540</td>\n",
       "      <td>1</td>\n",
       "      <td>0.000540</td>\n",
       "      <td>0.002055</td>\n",
       "    </tr>\n",
       "  </tbody>\n",
       "</table>\n",
       "</div>"
      ],
      "text/plain": [
       "            PERMNO TICKER                            COMNAM  PERMCO    PRC  \\\n",
       "date                                                                         \n",
       "2003-12-24   12490    IBM  INTERNATIONAL BUSINESS MACHS COR   20990  92.27   \n",
       "2003-12-26   12490    IBM  INTERNATIONAL BUSINESS MACHS COR   20990  92.90   \n",
       "2003-12-29   12490    IBM  INTERNATIONAL BUSINESS MACHS COR   20990  93.52   \n",
       "2003-12-30   12490    IBM  INTERNATIONAL BUSINESS MACHS COR   20990  92.63   \n",
       "2003-12-31   12490    IBM  INTERNATIONAL BUSINESS MACHS COR   20990  92.68   \n",
       "\n",
       "                 RET  CFACPR      RETX    sprtrn  \n",
       "date                                              \n",
       "2003-12-24 -0.005604       1 -0.005604 -0.001807  \n",
       "2003-12-26  0.006828       1  0.006828  0.001691  \n",
       "2003-12-29  0.006674       1  0.006674  0.012401  \n",
       "2003-12-30 -0.009517       1 -0.009517  0.000144  \n",
       "2003-12-31  0.000540       1  0.000540  0.002055  "
      ]
     },
     "execution_count": 4,
     "metadata": {},
     "output_type": "execute_result"
    }
   ],
   "source": [
    "ibm.tail()"
   ]
  },
  {
   "cell_type": "code",
   "execution_count": 5,
   "metadata": {},
   "outputs": [],
   "source": [
    "begDate = \"2003-01-01\"\n",
    "endDate = \"2003-12-31\"\n",
    "tmp = ibm[begDate:endDate]\n",
    "\n",
    "ibmRet = tmp.PRC.apply(np.log).diff().dropna()"
   ]
  },
  {
   "cell_type": "code",
   "execution_count": 6,
   "metadata": {},
   "outputs": [
    {
     "data": {
      "text/plain": [
       "date\n",
       "2003-01-03    0.013315\n",
       "2003-01-06    0.023482\n",
       "2003-01-07    0.028423\n",
       "2003-01-08   -0.021271\n",
       "2003-01-09    0.032832\n",
       "2003-01-10    0.007786\n",
       "2003-01-13   -0.001941\n",
       "2003-01-14    0.012153\n",
       "2003-01-15   -0.011239\n",
       "2003-01-16   -0.017738\n",
       "Name: PRC, dtype: float64"
      ]
     },
     "execution_count": 6,
     "metadata": {},
     "output_type": "execute_result"
    }
   ],
   "source": [
    "ibmRet[:10]"
   ]
  },
  {
   "cell_type": "code",
   "execution_count": 7,
   "metadata": {},
   "outputs": [
    {
     "data": {
      "text/plain": [
       "date\n",
       "2003-12-17   -0.006191\n",
       "2003-12-18   -0.007199\n",
       "2003-12-19    0.004412\n",
       "2003-12-22    0.002681\n",
       "2003-12-23   -0.006445\n",
       "2003-12-24   -0.005620\n",
       "2003-12-26    0.006805\n",
       "2003-12-29    0.006652\n",
       "2003-12-30   -0.009562\n",
       "2003-12-31    0.000540\n",
       "Name: PRC, dtype: float64"
      ]
     },
     "execution_count": 7,
     "metadata": {},
     "output_type": "execute_result"
    }
   ],
   "source": [
    "ibmRet[-10:]"
   ]
  },
  {
   "cell_type": "code",
   "execution_count": 8,
   "metadata": {},
   "outputs": [
    {
     "name": "stdout",
     "output_type": "stream",
     "text": [
      "The Historical Estimate of IBM's 2003 Annualized Volatility is:  0.2310\n"
     ]
    }
   ],
   "source": [
    "vol = ibmRet.std(ddof=1) * np.sqrt(252)\n",
    "print(f\"The Historical Estimate of IBM's 2003 Annualized Volatility is: {vol : 0.4f}\")"
   ]
  },
  {
   "cell_type": "markdown",
   "metadata": {},
   "source": [
    "<br>\n",
    "\n",
    "__NB:__ this can now be used as an input to an option pricing model (e.g. Binomial or Black-Scholes)\n",
    "\n",
    "<br>\n"
   ]
  },
  {
   "cell_type": "code",
   "execution_count": null,
   "metadata": {},
   "outputs": [],
   "source": []
  }
 ],
 "metadata": {
  "kernelspec": {
   "display_name": "Python 3",
   "language": "python",
   "name": "python3"
  },
  "language_info": {
   "codemirror_mode": {
    "name": "ipython",
    "version": 3
   },
   "file_extension": ".py",
   "mimetype": "text/x-python",
   "name": "python",
   "nbconvert_exporter": "python",
   "pygments_lexer": "ipython3",
   "version": "3.7.1"
  }
 },
 "nbformat": 4,
 "nbformat_minor": 2
}

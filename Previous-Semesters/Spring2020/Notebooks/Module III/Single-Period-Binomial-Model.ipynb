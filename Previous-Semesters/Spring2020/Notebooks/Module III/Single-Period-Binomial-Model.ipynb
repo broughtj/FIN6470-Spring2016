{
 "cells": [
  {
   "cell_type": "markdown",
   "metadata": {},
   "source": [
    " # __Finance 6470 Lectures Notes: Binomial Model Up and Down Factors__\n",
    "\n",
    "<br>\n",
    "\n",
    "Finance 6470: Derivatives Markets <br>\n",
    "Tyler J. Brough <br>\n",
    "Last Updated: April 9, 2019 <br>\n",
    "<br>\n",
    "<br>"
   ]
  },
  {
   "cell_type": "markdown",
   "metadata": {},
   "source": [
    "# The Binomial Option Pricing Model Derivation\n",
    "\n",
    "Recall that in the derivation of the binomial option pricing model: \n",
    "\n",
    "$$\n",
    "\\Delta = \\frac{C_{u} - C_{d}}{S (u - d)}\n",
    "$$\n",
    "\n",
    "<br>\n",
    "\n",
    "and\n",
    "\n",
    "<br>\n",
    "\n",
    "$$\n",
    "B = e^{-rh} \\frac{u C_{d} - d C_{u}}{u - d}\n",
    "$$\n",
    "\n",
    "<br>\n",
    "\n",
    "Combining these results the single-period option price becomes: \n",
    "\n",
    "$$\n",
    "\\Delta S + B = e^{-rh} \\left(C_{u} \\frac{e^{(r - \\delta)h} - d}{u-d}   + C_{d} \\frac{u - e^{(r - \\delta) h)}}{u-d} \\right)\n",
    "$$\n",
    "\n",
    "with the no-arbitrage condition that:\n",
    "\n",
    "$$\n",
    "u > e^{(r - \\delta) h} > d\n",
    "$$"
   ]
  },
  {
   "cell_type": "markdown",
   "metadata": {},
   "source": [
    "## Constructing $u$ and $d$\n",
    "\n",
    "This begs the question: where do $u$ and $d$ come from?\n",
    "\n",
    "<br>\n",
    "\n",
    "* In the _absence of uncertainty_, a stock must appreciate at the risk-free rate less the dividend yield. Thus, from time $t$ to time $t + h$, we have that\n",
    "\n",
    "$$\n",
    "F_{t,t+h} = S_{t+h} = S_{t} e^{(r - \\delta) h}\n",
    "$$\n",
    "\n",
    "* The stock price next period equals the forward price\n",
    "\n",
    "<br>"
   ]
  },
  {
   "cell_type": "markdown",
   "metadata": {},
   "source": [
    "* In a world with _uncertainty_, the stock price evolution is\n",
    "\n",
    "$$\n",
    "\\begin{aligned}\n",
    "u S_{t} &= F_{t,t+h} e^{+ \\sigma \\sqrt{h}} \\\\\n",
    "d S_{t} &= F_{t,t+h} e^{- \\sigma \\sqrt{h}}\n",
    "\\end{aligned}\n",
    "$$\n",
    "\n",
    "* where $\\sigma$ is the annualized standard deviation of the continuously compounded return, and $\\sigma \\sqrt{h}$ is standard deviation over a period length $h$\n",
    "\n",
    "* We can also rewrite the above as \n",
    "\n",
    "$$\n",
    "\\begin{aligned}\n",
    "u &= e^{(r - \\delta) h + \\sigma \\sqrt{h}} \\\\\n",
    "d &= e^{(r - \\delta) h - \\sigma \\sqrt{h}}\n",
    "\\end{aligned}\n",
    "$$\n",
    "\n",
    "* We refer to a constructed using this equation as a _forward tree_\n",
    "\n",
    "<br>"
   ]
  },
  {
   "cell_type": "code",
   "execution_count": 4,
   "metadata": {},
   "outputs": [],
   "source": [
    "import numpy as np"
   ]
  },
  {
   "cell_type": "code",
   "execution_count": 5,
   "metadata": {},
   "outputs": [],
   "source": [
    "def callPayoff(spot, strike): \n",
    "    return np.maximum(spot  - strike, 0.0)"
   ]
  },
  {
   "cell_type": "code",
   "execution_count": 6,
   "metadata": {},
   "outputs": [],
   "source": [
    "S = 41.0\n",
    "K = 40.0\n",
    "r = 0.08\n",
    "v = 0.30\n",
    "q = 0.0  # dividend\n",
    "h = 1"
   ]
  },
  {
   "cell_type": "code",
   "execution_count": 7,
   "metadata": {},
   "outputs": [],
   "source": [
    "u = np.exp((r - q) * h + v * np.sqrt(h))\n",
    "d = np.exp((r - q) * h - v * np.sqrt(h))"
   ]
  },
  {
   "cell_type": "code",
   "execution_count": 8,
   "metadata": {},
   "outputs": [
    {
     "data": {
      "text/plain": [
       "(1.4622845894342245, 0.8025187979624785)"
      ]
     },
     "execution_count": 8,
     "metadata": {},
     "output_type": "execute_result"
    }
   ],
   "source": [
    "(u, d)"
   ]
  },
  {
   "cell_type": "code",
   "execution_count": 9,
   "metadata": {},
   "outputs": [],
   "source": [
    "Cu = callPayoff(u * S, K)\n",
    "Cd = callPayoff(d * S, K)"
   ]
  },
  {
   "cell_type": "code",
   "execution_count": 10,
   "metadata": {},
   "outputs": [
    {
     "data": {
      "text/plain": [
       "(19.953668166803205, 0.0)"
      ]
     },
     "execution_count": 10,
     "metadata": {},
     "output_type": "execute_result"
    }
   ],
   "source": [
    "(Cu,Cd)"
   ]
  },
  {
   "cell_type": "code",
   "execution_count": 11,
   "metadata": {},
   "outputs": [],
   "source": [
    "D = (Cu - Cd) / (S * (u - d))"
   ]
  },
  {
   "cell_type": "code",
   "execution_count": 12,
   "metadata": {},
   "outputs": [
    {
     "data": {
      "text/plain": [
       "0.7376478738781428"
      ]
     },
     "execution_count": 12,
     "metadata": {},
     "output_type": "execute_result"
    }
   ],
   "source": [
    "D"
   ]
  },
  {
   "cell_type": "code",
   "execution_count": 13,
   "metadata": {},
   "outputs": [],
   "source": [
    "B = np.exp(-r * h) * ((u * Cd - d * Cu) / (u - d))"
   ]
  },
  {
   "cell_type": "code",
   "execution_count": 14,
   "metadata": {},
   "outputs": [
    {
     "data": {
      "text/plain": [
       "-22.404982402058376"
      ]
     },
     "execution_count": 14,
     "metadata": {},
     "output_type": "execute_result"
    }
   ],
   "source": [
    "B"
   ]
  },
  {
   "cell_type": "code",
   "execution_count": 15,
   "metadata": {},
   "outputs": [
    {
     "name": "stdout",
     "output_type": "stream",
     "text": [
      "The Single-Period Binomial Option Price is:  7.8386\n"
     ]
    }
   ],
   "source": [
    "C0 = D * S + B\n",
    "print(f\"The Single-Period Binomial Option Price is: {C0 : 0.4f}\")"
   ]
  },
  {
   "cell_type": "markdown",
   "metadata": {},
   "source": [
    "<br>\n",
    "\n",
    "___Draw the tree!___\n",
    "\n",
    "<br>"
   ]
  },
  {
   "cell_type": "code",
   "execution_count": 16,
   "metadata": {},
   "outputs": [
    {
     "data": {
      "text/plain": [
       "30.243562829003853"
      ]
     },
     "execution_count": 16,
     "metadata": {},
     "output_type": "execute_result"
    }
   ],
   "source": [
    "D * S\n"
   ]
  },
  {
   "cell_type": "code",
   "execution_count": null,
   "metadata": {},
   "outputs": [],
   "source": []
  }
 ],
 "metadata": {
  "kernelspec": {
   "display_name": "Python 3",
   "language": "python",
   "name": "python3"
  },
  "language_info": {
   "codemirror_mode": {
    "name": "ipython",
    "version": 3
   },
   "file_extension": ".py",
   "mimetype": "text/x-python",
   "name": "python",
   "nbconvert_exporter": "python",
   "pygments_lexer": "ipython3",
   "version": "3.7.1"
  }
 },
 "nbformat": 4,
 "nbformat_minor": 2
}

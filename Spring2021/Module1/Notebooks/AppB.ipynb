{
 "cells": [
  {
   "cell_type": "markdown",
   "metadata": {},
   "source": [
    "# __Finance 6470: Derivatives Markets__\n",
    "\n",
    "## __Notes on Continuous Compounding__\n",
    "\n",
    "### Appendix B from McDonald\n",
    "\n",
    "<br>\n",
    "<br>"
   ]
  },
  {
   "cell_type": "code",
   "execution_count": 9,
   "metadata": {},
   "outputs": [],
   "source": [
    "import numpy as np"
   ]
  },
  {
   "cell_type": "markdown",
   "metadata": {},
   "source": [
    "### __B1. The Language of Interest Rates__\n",
    "\n",
    "<br>\n",
    "\n",
    "We will begin with some defintions:\n",
    "\n",
    "* __Effective Annual Rate:__ If $r$ is quoted as an ___effective annual rate___, this means that if you invest $\\$1$, $n$ years later you will have $(1 + r)^{n}$. If you invest $x_{0}$ and earn $x_{n}$ $n$ years later, then the implied effective annual rate is $(x_{n}/x_{0})^{1/n} - 1$.\n",
    "\n",
    "\n",
    "* __Continuously Compounded Rate:__ If $r$ is quoted as an annualized ___continously compounded rate___, this means that if you invest $\\$1$, $n$ years later you will have $e^{rn}$. If you invest $x_{0}$ and earn $x_{n}$ $n$ years later, then the implied annual continuously compounded rate is $\\ln{(x_{n}/x_{0})}/n$.\n",
    "\n",
    "<br>"
   ]
  },
  {
   "cell_type": "code",
   "execution_count": 6,
   "metadata": {},
   "outputs": [
    {
     "data": {
      "text/plain": [
       "1.050625"
      ]
     },
     "execution_count": 6,
     "metadata": {},
     "output_type": "execute_result"
    }
   ],
   "source": [
    "r = 0.025\n",
    "n = 2\n",
    "(1 + r)**n"
   ]
  },
  {
   "cell_type": "markdown",
   "metadata": {},
   "source": [
    "### __B.2 The Logarithmic and Exponential Functions__\n",
    "\n",
    "<br>\n",
    "\n",
    "Interest are typicall quoted as \"$r\\%$ per year, compounded $n$ time every year.\" From your introductory finance classes \n",
    "\n",
    "\n",
    "$$\n",
    "\\left(1 + \\frac{r}{n}\\right)^{n}\n",
    "$$\n",
    "\n",
    "In $T$ years you will have \n",
    "\n",
    "$$\n",
    "\\left(1 + \\frac{r}{n}\\right)^{nT}\n",
    "$$\n",
    "\n",
    "\n",
    "...\n",
    "\n",
    "\n",
    "* $(\\$1 + 0.01)^{3} = \\$1.331$ with annual compounding."
   ]
  },
  {
   "cell_type": "code",
   "execution_count": 9,
   "metadata": {},
   "outputs": [
    {
     "data": {
      "text/plain": [
       "1.3310000000000004"
      ]
     },
     "execution_count": 9,
     "metadata": {},
     "output_type": "execute_result"
    }
   ],
   "source": [
    "(1. + 0.1)**3"
   ]
  },
  {
   "cell_type": "code",
   "execution_count": null,
   "metadata": {},
   "outputs": [],
   "source": []
  },
  {
   "cell_type": "code",
   "execution_count": null,
   "metadata": {},
   "outputs": [],
   "source": []
  },
  {
   "cell_type": "markdown",
   "metadata": {},
   "source": [
    "__NB:__ Your attemp goes here in the middle. "
   ]
  },
  {
   "cell_type": "code",
   "execution_count": null,
   "metadata": {},
   "outputs": [],
   "source": []
  },
  {
   "cell_type": "markdown",
   "metadata": {},
   "source": [
    "## __Some Just-in-Time Mathematics__"
   ]
  },
  {
   "cell_type": "markdown",
   "metadata": {},
   "source": [
    "In this section we will look at the $\\ln{(\\cdot)}$ and $\\exp{(\\cdot)}$ functions. \n",
    "\n",
    "<br>\n",
    "\n",
    "We will see that these are put to use in calculating log returns and continuously compounded cashflows.\n",
    "\n",
    "<br>"
   ]
  },
  {
   "cell_type": "markdown",
   "metadata": {},
   "source": [
    "### __Simple Returns__\n",
    "\n",
    "As a starting point, let's take a look at the very familiar ___simple returns___\n",
    "\n",
    "<br>"
   ]
  },
  {
   "cell_type": "markdown",
   "metadata": {},
   "source": [
    "<br>\n",
    "\n",
    "$$\n",
    "\\begin{aligned}\n",
    "R_{t} &= \\frac{P_{t} - P_{t-1}}{P_{t-1}} \\\\\n",
    "      &                                  \\\\\n",
    "      &= \\frac{P_{t}}{P_{t-1}} - 1\n",
    "\\end{aligned}\n",
    "$$\n",
    "\n",
    "<br>\n",
    "\n",
    "__NB:__ the quantity $\\frac{P_{t}}{P_{t-1}}$ is called the _price relative quotient_. \n",
    "\n",
    "<br>\n",
    "\n",
    "It is equal to the gross return:\n",
    "\n",
    "$$\n",
    "1 + R_{t} = \\frac{P_{t}}{P_{t-1}}\n",
    "$$\n",
    "\n",
    "<br>"
   ]
  },
  {
   "cell_type": "markdown",
   "metadata": {},
   "source": [
    "## __Log Returns__"
   ]
  },
  {
   "cell_type": "markdown",
   "metadata": {},
   "source": [
    "<br>\n",
    "\n",
    "* From Hayek we know that it is prices that we mostly care about, because it is prices that carry and convey information/knowledge.\n",
    "\n",
    "* Prices, however, present statistical challenges that are difficult to ovecome. \n",
    "\n",
    "* Namely, the issue of _nonstationarity_ (which we will define later)\n",
    "\n",
    "\n",
    "<br>"
   ]
  },
  {
   "cell_type": "markdown",
   "metadata": {},
   "source": [
    "$$\n",
    "\\begin{aligned}\n",
    "r_{t} &= \\log{(1 + R_{t})} = \\frac{P_{t}}{P_{t-1}} \\\\\n",
    "      &                                            \\\\\n",
    "      &= \\log{(P_{t})} - \\log{(P_{t-1})}           \n",
    "\\end{aligned}\n",
    "$$\n",
    "\n",
    "<br>\n",
    "\n",
    "__NB:__ the last statement is about the differences in log prices. These are continuously compounded returns. This relies upon the idea of the _infinitesimal increment in time_.\n",
    "\n",
    "<br>"
   ]
  },
  {
   "cell_type": "code",
   "execution_count": 17,
   "metadata": {},
   "outputs": [],
   "source": [
    "# Set up some arbitrary prices to demonstrate\n",
    "# the calculations\n",
    "p1 = 100.\n",
    "p2 = 105."
   ]
  },
  {
   "cell_type": "code",
   "execution_count": 8,
   "metadata": {},
   "outputs": [
    {
     "data": {
      "text/plain": [
       "1.05"
      ]
     },
     "execution_count": 8,
     "metadata": {},
     "output_type": "execute_result"
    }
   ],
   "source": [
    "prq = p2/p1\n",
    "prq"
   ]
  },
  {
   "cell_type": "code",
   "execution_count": 10,
   "metadata": {},
   "outputs": [
    {
     "data": {
      "text/plain": [
       "0.05"
      ]
     },
     "execution_count": 10,
     "metadata": {},
     "output_type": "execute_result"
    }
   ],
   "source": [
    "R = (p2 - p1)/p1\n",
    "R"
   ]
  },
  {
   "cell_type": "code",
   "execution_count": 11,
   "metadata": {},
   "outputs": [
    {
     "data": {
      "text/plain": [
       "0.04879016416943205"
      ]
     },
     "execution_count": 11,
     "metadata": {},
     "output_type": "execute_result"
    }
   ],
   "source": [
    "np.log(1 + R)"
   ]
  },
  {
   "cell_type": "code",
   "execution_count": 14,
   "metadata": {},
   "outputs": [
    {
     "data": {
      "text/plain": [
       "0.04879016416943127"
      ]
     },
     "execution_count": 14,
     "metadata": {},
     "output_type": "execute_result"
    }
   ],
   "source": [
    "r = np.log(p2) - np.log(p1)\n",
    "r"
   ]
  },
  {
   "cell_type": "code",
   "execution_count": 16,
   "metadata": {},
   "outputs": [
    {
     "data": {
      "text/plain": [
       "105.0"
      ]
     },
     "execution_count": 16,
     "metadata": {},
     "output_type": "execute_result"
    }
   ],
   "source": [
    "p2 * np.exp(r)\n",
    "p2"
   ]
  },
  {
   "cell_type": "markdown",
   "metadata": {},
   "source": [
    "#### Notes on the Natural Exp and Log Functions\n",
    "\n",
    "<br>\n",
    "\n",
    "$$\n",
    "\\log_{e}{(\\cdot)} = \\ln{(\\cdot)}\n",
    "$$\n",
    "\n",
    "and\n",
    "\n",
    "$$\n",
    "\\exp{(\\cdot)} = e^{(\\cdot)}\n",
    "$$\n",
    "\n",
    "<br>\n",
    "\n",
    "__NB:__ From Leonhard Euler (1700's)\n",
    "\n",
    "<br>\n",
    "\n",
    "$$\n",
    "e \\equiv lim_{s \\rightarrow \\infty} \\left(1 + \\frac{1}{s}\\right)^{s} \\approx 2.71828\n",
    "$$\n",
    "\n",
    "<br>"
   ]
  },
  {
   "cell_type": "code",
   "execution_count": 5,
   "metadata": {},
   "outputs": [],
   "source": [
    "# Define a function to represent (1 + 1/s)^s\n",
    "def f(s):\n",
    "    return (1 + 1/s)**s"
   ]
  },
  {
   "cell_type": "code",
   "execution_count": 3,
   "metadata": {},
   "outputs": [
    {
     "data": {
      "text/plain": [
       "2.5937424601000023"
      ]
     },
     "execution_count": 3,
     "metadata": {},
     "output_type": "execute_result"
    }
   ],
   "source": [
    "f(10.)"
   ]
  },
  {
   "cell_type": "code",
   "execution_count": 4,
   "metadata": {},
   "outputs": [
    {
     "name": "stdout",
     "output_type": "stream",
     "text": [
      "2.7169239322355936\n",
      "2.7181459268249255\n",
      "2.7182682371922975\n",
      "2.7182804690957534\n",
      "2.7182816941320818\n",
      "2.7182817983473577\n"
     ]
    }
   ],
   "source": [
    "# Argument values increase by powers of 10 \n",
    "inputs = [1000., 10000., 100000., 1000000., 10000000.,100000000.]\n",
    "\n",
    "# The function values converge on 2.71828 as we \n",
    "# increase the argument value by powers of 10\n",
    "for s in inputs:\n",
    "    print(f(s))"
   ]
  },
  {
   "cell_type": "markdown",
   "metadata": {},
   "source": [
    "<br>\n",
    "\n",
    "Let $m$ be the compounding period and $r_{t}$ the return. \n",
    "\n",
    "<br>\n",
    "\n",
    "$$\n",
    "\\begin{aligned}\n",
    "P_{t} &= P_{t-1} \\left(1 + \\frac{r_{t}}{m}\\right)^{m} \\quad \\quad \\mbox{discrete} \\\\\n",
    "      & \\\\\n",
    "P_{t} &= P_{t-1} lim_{m \\rightarrow \\infty} \\left(1 + \\frac{r_{t}}{m}\\right)^{m}\n",
    "\\end{aligned}\n",
    "$$\n",
    "\n",
    "<br>"
   ]
  },
  {
   "cell_type": "markdown",
   "metadata": {},
   "source": [
    "Now let $s = \\frac{m}{r_{t}}$, and we obtain the following: \n",
    "\n",
    "<br>\n",
    "\n",
    "$$\n",
    "\\begin{aligned}\n",
    "P_{t} &= P_{t-1} \\lim_{s \\rightarrow \\infty} \\left[ \\left(1 + \\frac{1}{s}\\right)^{s r_{t}} \\right]   \\\\\n",
    "      &                        \\\\\n",
    "      &= P_{t-} \\left[\\lim_{s \\rightarrow \\infty} \\left(1 + \\frac{1}{s}\\right)^{s} \\right]^{r_{t}} \\\\\n",
    "      &                        \\\\\n",
    "      &= P_{t-1} e^{r_{t}}\n",
    "\\end{aligned}\n",
    "$$\n",
    "\n",
    "<br>\n",
    "\n",
    "This gives us continuous compounding between period $t-1$ and $t$ at the  rate $r_{t}$. This is where the $\\exp{(\\cdot)}$ function comes into continuous compounding. You will see it all throughout the course!\n",
    "\n",
    "<br>"
   ]
  },
  {
   "cell_type": "markdown",
   "metadata": {},
   "source": [
    "<br>\n",
    "\n",
    "The $\\ln{(\\cdot)}$ and $\\exp{(\\cdot)}$ functions are mutual inverses, so that: \n",
    "\n",
    "<br>\n",
    "\n",
    "$$\n",
    "e^{r_{t}} = \\frac{P_{t}}{P_{t-1}}\n",
    "$$\n",
    "\n",
    "<br>\n",
    "\n",
    "In other words:\n",
    "\n",
    "<br>\n",
    "\n",
    "$$\n",
    "\\begin{aligned}\n",
    "\\ln{(e^{r_{t}})} &= \\ln{\\left(\\frac{P_{t}}{P_{t-1}}\\right)} \\\\\n",
    "                &                                          \\\\\n",
    "r_{t}           &= \\ln{(P_{t})} - \\ln{(P_{t-1})}\n",
    "\\end{aligned}\n",
    "$$\n",
    "\n",
    "<br>\n",
    "\n",
    "So we've come full circle from the statement: $P_{t} = P_{t-1}e^{r_{t}}$.\n",
    "\n",
    "<br>"
   ]
  },
  {
   "cell_type": "code",
   "execution_count": null,
   "metadata": {},
   "outputs": [],
   "source": []
  }
 ],
 "metadata": {
  "kernelspec": {
   "display_name": "Python 3",
   "language": "python",
   "name": "python3"
  },
  "language_info": {
   "codemirror_mode": {
    "name": "ipython",
    "version": 3
   },
   "file_extension": ".py",
   "mimetype": "text/x-python",
   "name": "python",
   "nbconvert_exporter": "python",
   "pygments_lexer": "ipython3",
   "version": "3.8.5"
  }
 },
 "nbformat": 4,
 "nbformat_minor": 4
}

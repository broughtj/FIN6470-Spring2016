{
 "cells": [
  {
   "cell_type": "markdown",
   "metadata": {},
   "source": [
    "# __Computing Minimum-Variance Hedge Ratios__\n",
    "\n",
    "<br>\n",
    "<br>\n",
    "\n",
    "Finance 6470: Derivative Markets <br>\n",
    "Tyler J. Brough <br>\n",
    "Last Updated: March 18, 2021 <br>\n",
    "<br>\n",
    "\n"
   ]
  },
  {
   "cell_type": "markdown",
   "metadata": {},
   "source": [
    "## Calculating Sample Statistics for Hedge Ratios"
   ]
  },
  {
   "cell_type": "markdown",
   "metadata": {},
   "source": [
    "The formula for the optimal static hedge ratio is given in Chapter 3 as:\n",
    "\n",
    "$$h^{\\ast} = \\rho \\frac{\\sigma_{S}}{\\sigma_{F}}$$\n",
    "\n",
    "In practice this will require statistical inference from historical data to **estimate** the values of the paramters: $\\rho$, $\\sigma_{S}$, and $\\sigma_{F}$. \n",
    "\n",
    "We will look at how this is to be done."
   ]
  },
  {
   "cell_type": "markdown",
   "metadata": {},
   "source": [
    "Recall the formula for the sample standard deviation as the estimator for the standard deviation:\n",
    "\n",
    "$$\\hat{\\sigma} = s = \\sqrt{\\frac{1}{n-1} \\sum\\limits_{t=1}^{n} (x_{t} - \\bar{x})^{2}}$$\n",
    "\n",
    "where $n$ is the sample size, the $x_{i}$ are the particular historical values of each of the data points for \n",
    "$i = 1, \\ldots, n$.\n",
    "\n",
    "Recall also that the estimator for the sample mean is given by:\n",
    "\n",
    "$$\\bar{x} = \\frac{1}{n} \\sum\\limits_{i=t}^{n} x_{t}$$"
   ]
  },
  {
   "cell_type": "markdown",
   "metadata": {},
   "source": [
    "Below I have reproduced the data in Table 3.2 from the book. We will use these data to calculate the optimal minimum variance hedge ratio."
   ]
  },
  {
   "cell_type": "markdown",
   "metadata": {},
   "source": [
    "<br>\n",
    "<br>\n",
    "\n",
    "<img src=\"images/Table3-2.jpg\" alt=\"Cross Hedging\" style=\"width:600px;\"/>\n",
    "\n",
    "<br>\n",
    "<br>"
   ]
  },
  {
   "cell_type": "markdown",
   "metadata": {},
   "source": [
    "Lets first compute the sample means for each of the change in futures prices and the change in jet fuel prices."
   ]
  },
  {
   "cell_type": "markdown",
   "metadata": {},
   "source": [
    "The mean for the change in heating oil futures prices is:\n",
    "\n",
    "$$\\bar{\\Delta F} = \\frac{1} {15} (0.021 + 0.035 - 0.046 + \\ldots + 0.029) = -0.000867$$\n",
    "\n",
    "By the way, this can also be easily done in `Python` using the `Numpy` module as:"
   ]
  },
  {
   "cell_type": "code",
   "execution_count": 1,
   "metadata": {},
   "outputs": [],
   "source": [
    "import numpy as np\n",
    "from scipy import stats"
   ]
  },
  {
   "cell_type": "code",
   "execution_count": 3,
   "metadata": {},
   "outputs": [],
   "source": [
    "delta_f = np.array([0.021, 0.035, -0.046, 0.001, 0.044, -0.029, -0.026, -0.029,\n",
    "                   0.048, -0.006, -0.036, -0.011, 0.019,-0.027, 0.029])"
   ]
  },
  {
   "cell_type": "code",
   "execution_count": 4,
   "metadata": {
    "collapsed": false,
    "jupyter": {
     "outputs_hidden": false
    }
   },
   "outputs": [
    {
     "data": {
      "text/plain": [
       "array([ 0.021,  0.035, -0.046,  0.001,  0.044, -0.029, -0.026, -0.029,\n",
       "        0.048, -0.006, -0.036, -0.011,  0.019, -0.027,  0.029])"
      ]
     },
     "execution_count": 4,
     "metadata": {},
     "output_type": "execute_result"
    }
   ],
   "source": [
    "delta_f"
   ]
  },
  {
   "cell_type": "code",
   "execution_count": 5,
   "metadata": {
    "collapsed": false,
    "jupyter": {
     "outputs_hidden": false
    }
   },
   "outputs": [
    {
     "data": {
      "text/plain": [
       "(15,)"
      ]
     },
     "execution_count": 5,
     "metadata": {},
     "output_type": "execute_result"
    }
   ],
   "source": [
    "delta_f.shape"
   ]
  },
  {
   "cell_type": "code",
   "execution_count": 6,
   "metadata": {
    "collapsed": false,
    "jupyter": {
     "outputs_hidden": false
    }
   },
   "outputs": [],
   "source": [
    "fbar = delta_f.mean()"
   ]
  },
  {
   "cell_type": "code",
   "execution_count": 7,
   "metadata": {
    "collapsed": false,
    "jupyter": {
     "outputs_hidden": false
    }
   },
   "outputs": [
    {
     "name": "stdout",
     "output_type": "stream",
     "text": [
      "The mean of heating oil futures -0.000867\n"
     ]
    }
   ],
   "source": [
    "print(\"The mean of heating oil futures {:f}\".format(fbar))"
   ]
  },
  {
   "cell_type": "code",
   "execution_count": 8,
   "metadata": {
    "collapsed": false,
    "jupyter": {
     "outputs_hidden": false
    }
   },
   "outputs": [
    {
     "data": {
      "text/plain": [
       "-0.0008666666666666659"
      ]
     },
     "execution_count": 8,
     "metadata": {},
     "output_type": "execute_result"
    }
   ],
   "source": [
    "np.mean(delta_f)"
   ]
  },
  {
   "cell_type": "markdown",
   "metadata": {},
   "source": [
    "Also, the sample standard deviation is:\n",
    "\n",
    "$$\\hat{\\sigma}_{\\Delta F} = \\sqrt{\\frac{1}{14} [(0.021 + 0.000867)^2 + (0.035 + 0.000867)^2 + \\ldots + (0.029 + 0.000867)^2 ]} = 0.0313$$\n",
    "\n",
    "Here is how to do it in `Python`:"
   ]
  },
  {
   "cell_type": "code",
   "execution_count": 9,
   "metadata": {},
   "outputs": [],
   "source": [
    "sigma_f = delta_f.std(ddof=1) # note: use ddof = 1 to get the unbiased estimator!"
   ]
  },
  {
   "cell_type": "code",
   "execution_count": 10,
   "metadata": {
    "collapsed": false,
    "jupyter": {
     "outputs_hidden": false
    }
   },
   "outputs": [
    {
     "name": "stdout",
     "output_type": "stream",
     "text": [
      "The standard deviation of heating oil futures is 0.031343\n"
     ]
    }
   ],
   "source": [
    "print(\"The standard deviation of heating oil futures is {:f}\".format(sigma_f))"
   ]
  },
  {
   "cell_type": "markdown",
   "metadata": {},
   "source": [
    "The sample mean for jet fuel spot prices is:\n",
    "\n",
    "$$\\bar{\\Delta S} = \\frac{1}{15} (0.029 + 0.020 - 0.044 + \\ldots + 0.023) = 0.0002$$\n",
    "\n",
    "Here it is in `Python`:"
   ]
  },
  {
   "cell_type": "code",
   "execution_count": 11,
   "metadata": {},
   "outputs": [],
   "source": [
    "delta_s = np.array([0.029, 0.020, -0.044, 0.008, 0.026, -0.019, -0.010, -0.007,\n",
    "                   0.043, 0.011, -0.036, -0.018, 0.009, -0.032, 0.023])"
   ]
  },
  {
   "cell_type": "code",
   "execution_count": 12,
   "metadata": {
    "collapsed": false,
    "jupyter": {
     "outputs_hidden": false
    }
   },
   "outputs": [
    {
     "name": "stdout",
     "output_type": "stream",
     "text": [
      "The mean of jet fuel spot prices is: 0.000200\n"
     ]
    }
   ],
   "source": [
    "sbar = delta_s.mean()\n",
    "print(\"The mean of jet fuel spot prices is: {:f}\".format(sbar))"
   ]
  },
  {
   "cell_type": "markdown",
   "metadata": {},
   "source": [
    "Here is the sample standard deviation for jet fuel spot prices:\n",
    "\n",
    "$$\\hat{\\sigma}_{\\Delta S} = \\sqrt{\\frac{1}{14} [(0.029 - 0.0002)^2 + (0.020 - 0.0002)^2 + \\ldots + (0.023 - 0.0002)^2 ]} = 0.0263$$\n",
    "\n",
    "Here is how to do it in `Python`:"
   ]
  },
  {
   "cell_type": "code",
   "execution_count": 13,
   "metadata": {
    "collapsed": false,
    "jupyter": {
     "outputs_hidden": false
    }
   },
   "outputs": [
    {
     "name": "stdout",
     "output_type": "stream",
     "text": [
      "The sample standard deviation of jet fuel prices is: 0.026255\n"
     ]
    }
   ],
   "source": [
    "sigma_s = delta_s.std(ddof=1)\n",
    "print(\"The sample standard deviation of jet fuel prices is: {:f}\".format(sigma_s))"
   ]
  },
  {
   "cell_type": "markdown",
   "metadata": {},
   "source": [
    "## The Sample Correlation Coefficient"
   ]
  },
  {
   "cell_type": "markdown",
   "metadata": {},
   "source": [
    "We also need to be able to estimate $\\rho$ in order to calculate the hedge ratio. Let's recall that the formula for the sample (estimator) correlation coefficient is equal to:\n",
    "\n",
    "$$\\hat{\\rho}_{\\Delta S, \\Delta F} = \\frac{\\hat{Cov}(\\Delta S, \\Delta F)}{\\hat{\\sigma}_{\\Delta S} \\times \\hat{\\sigma}_{\\Delta F}}$$\n",
    "\n",
    "So in order to calculate this we need to know how to calculate the sample covariance $\\hat{Cov}(\\Delta S, \\Delta F)$. That formula is:\n",
    "\n",
    "$$\\hat{Cov}(\\Delta S, \\Delta F) = \\hat{\\Sigma}_{\\Delta S, \\Delta F} = \\frac{1}{n-1} \\sum\\limits_{i=1}^{n} (\\Delta S_{i} - \\bar{\\Delta S}) (\\Delta F_{i} - \\bar{\\Delta F})$$"
   ]
  },
  {
   "cell_type": "code",
   "execution_count": 14,
   "metadata": {
    "collapsed": false,
    "jupyter": {
     "outputs_hidden": false
    }
   },
   "outputs": [],
   "source": [
    "rho = stats.pearsonr(delta_s, delta_f)[0]"
   ]
  },
  {
   "cell_type": "code",
   "execution_count": 15,
   "metadata": {
    "collapsed": false,
    "jupyter": {
     "outputs_hidden": false
    }
   },
   "outputs": [
    {
     "name": "stdout",
     "output_type": "stream",
     "text": [
      "The estimated optimal hedge ratio is:  0.7777\n"
     ]
    }
   ],
   "source": [
    "h_star = rho * (sigma_s / sigma_f)\n",
    "print(f\"The estimated optimal hedge ratio is: {h_star : 0.4f}\")"
   ]
  },
  {
   "cell_type": "markdown",
   "metadata": {},
   "source": [
    "We can also estimate this value using the estimated slope coefficient in a linear regression.\n",
    "\n",
    "<br>\n",
    "\n",
    "Recall that the OLS slope coefficient estimator is equal to the following:\n",
    "\n",
    "$$\n",
    "\\begin{aligned}\n",
    "\\hat{\\beta} &= \\frac{Cov(y,x)}{Var(x)} \\\\\n",
    "            &= \\rho \\frac{\\sigma_{y} \\sigma_{x}}{\\sigma_{x} \\sigma_{x}} \\\\\n",
    "            &= \\rho \\frac{\\sigma_{y}}{\\sigma_{x}}\n",
    "\\end{aligned}\n",
    "$$\n",
    "\n",
    "<br>"
   ]
  },
  {
   "cell_type": "code",
   "execution_count": 16,
   "metadata": {},
   "outputs": [],
   "source": [
    "slope, intercept, r_value, p_value, std_err = stats.linregress(delta_f, delta_s)"
   ]
  },
  {
   "cell_type": "code",
   "execution_count": 17,
   "metadata": {},
   "outputs": [
    {
     "name": "stdout",
     "output_type": "stream",
     "text": [
      "The estimated minimum-variance hedge ratio (via OLS) is:  0.7777\n"
     ]
    }
   ],
   "source": [
    "print(f\"The estimated minimum-variance hedge ratio (via OLS) is: {slope : 0.4f}\")"
   ]
  },
  {
   "cell_type": "code",
   "execution_count": null,
   "metadata": {},
   "outputs": [],
   "source": []
  }
 ],
 "metadata": {
  "kernelspec": {
   "display_name": "Python 3",
   "language": "python",
   "name": "python3"
  },
  "language_info": {
   "codemirror_mode": {
    "name": "ipython",
    "version": 3
   },
   "file_extension": ".py",
   "mimetype": "text/x-python",
   "name": "python",
   "nbconvert_exporter": "python",
   "pygments_lexer": "ipython3",
   "version": "3.8.5"
  }
 },
 "nbformat": 4,
 "nbformat_minor": 4
}

{
 "cells": [
  {
   "cell_type": "markdown",
   "metadata": {},
   "source": [
    "# __A Quick Overview of Predictive Distributions__\n",
    "\n",
    "<br>\n",
    "\n",
    "Finance 6470: Derivative Markets <br>\n",
    "Tyler J. Brough <br>\n",
    "Last Updated: March 30, 2021 <br>\n",
    "<br>"
   ]
  },
  {
   "cell_type": "markdown",
   "metadata": {},
   "source": [
    "Typically, the concept of a __predictive distribution__ is associated with Bayesian statistical methods. In a Bayesian model the answer to any problem of statistical\n",
    "inference comes in the form of an entire distribution of outcomes rather than simply a _point estimate_ (a single numerical value). This is very nature for Bayesians \n",
    "because the only \"estimator\" in the Bayesian world is Bayes' Rule:\n",
    "\n",
    "<br>\n",
    "\n",
    "$$\n",
    "p(\\theta | x) \\propto p(x | \\theta) p(\\theta)\n",
    "$$\n",
    "\n",
    "<br>\n",
    "\n",
    "$p(\\theta | x)$ is called the _posterior distribution_ and is obtained by taking the product of the _likelihood function_ (i.e. $p(x | \\theta)$) and the _prior distribution_ (i.e. $p(\\theta)$).\n",
    "\n",
    "<br>\n",
    "\n",
    "$p(\\theta | x)$ is a probability density function (or many thousands of draws from one as a proxy). It represents infinitely many possible outcomes and their associated probability density. But the \n",
    "random variable(s) being modeled here is $\\theta$ (possibly a vector). \n",
    "\n",
    "<br>\n",
    "\n",
    "In finance, we are not primarily interested in any particular $\\theta$'s but rather with future, but _uncertain_ $y$ values:\n",
    "\n",
    "* What will the value of the investment portfolio be at retirement? \n",
    "\n",
    "* What will the value of the spot price be at delivery? \n",
    "\n",
    "* What will the value of the underlying be at maturity of the option contract? I.e. what will be the payoff of the option at expiry? \n",
    "\n",
    "* What will the settlement price of the futures contract? \n",
    "\n",
    "<br>\n",
    "\n",
    "And on and on. In finance we care about forward-looking outcomes of random variables. \n",
    "\n",
    "<br>\n",
    "\n",
    "Bayesian methods aid this objective by providing a _predictive distribution_ in the following way: \n",
    "\n",
    "<br>\n",
    "\n",
    "$$\n",
    "p(x^{\\ast} | D) \\propto \\int\\limits_{\\Theta} p(x | \\theta) p(\\theta | D) d \\theta\n",
    "$$\n",
    "\n",
    "<br>\n",
    "\n",
    "where $x^{\\ast}$ represents future values of $x$ as of yet unobserved, but anticipated and $D = \\{x_{1}, x_{2}, \\ldots, x_{N}\\}$ (i.e. the observed data).\n",
    "\n",
    "<br>\n",
    "\n",
    "This is typically done by Monte Carlo simulation in any model beyond moderate complexity. \n",
    "\n",
    "<br>\n",
    "\n",
    "This approach can be approximated for a _diffuse_ prior distribution $p(\\theta)$ with classical statistical tools and Monte Carlo simulation. This is what Bollen and Whaley do with\n",
    "their model of synthetic energy supply estimated via maximum likelihood and implemented with Monte Carlo simulation.\n",
    "\n",
    "<br>"
   ]
  },
  {
   "cell_type": "markdown",
   "metadata": {},
   "source": [
    "<br>\n",
    "<br>\n",
    "\n",
    "Consider the _simulating supply_ log-spot price model from Bollen & Whaley:\n",
    "\n",
    "<br>\n",
    "<br>\n",
    "\n",
    "$$\n",
    "\\ln{ \\left( \\frac{S_{i,t}}{S_{i,t-1}} \\right)} = \\alpha_{i} (\\beta_{i} - S_{i,t-1}) + \\varepsilon_{i,t}\n",
    "$$\n",
    "\n",
    "<br>\n",
    "<br>\n",
    "\n",
    "Where $\\varepsilon_{1}, \\varepsilon_{2} \\sim BVN(0,\\sigma_{1}^{2}, 0, \\sigma_{2}^{2}, \\rho)$. For convenience we can rewrite this as:\n",
    "\n",
    "<br>\n",
    "<br>\n",
    "\n",
    "$$\n",
    "\\ln{(S_{i,t})} = \\ln{(S_{i,t-1})} + \\alpha_{i} (\\beta_{i} - S_{i,t-1}) + \\varepsilon_{i,t}\n",
    "$$\n",
    "\n",
    "<br>\n",
    "<br>\n",
    "\n",
    "Let's implement this in a function that can return many thousand simulated paths as follows:\n",
    "\n",
    "<br>"
   ]
  },
  {
   "cell_type": "code",
   "execution_count": 2,
   "metadata": {},
   "outputs": [],
   "source": [
    "import numpy as np\n",
    "import pandas as pd\n",
    "import matplotlib.pyplot as plt\n",
    "plt.rcParams['figure.figsize'] = [20, 10]\n",
    "\n",
    "from numpy import size, log, exp, pi, sum, diff, array, zeros, diag, mat, asarray, sqrt, copy\n",
    "from numpy.linalg import inv"
   ]
  },
  {
   "cell_type": "code",
   "execution_count": 3,
   "metadata": {},
   "outputs": [],
   "source": [
    "def simulated_supply(params, numObs=252, numReps=10000): \n",
    "    a1 = params[0]\n",
    "    b1 = params[1]\n",
    "    s1 = params[2]\n",
    "    S1 = params[3]\n",
    "    \n",
    "    paths = np.empty((numReps, numObs))\n",
    "    \n",
    "    for i in range(numReps):\n",
    "        paths[i,0] = np.log(S1)\n",
    "        z = np.random.normal(size=numObs)\n",
    "        \n",
    "        for j in range(1, numObs):\n",
    "            paths[i,j] = paths[i,j-1] + a1 * (b1 - exp(paths[i,j-1])) + z[j] * s1\n",
    "            \n",
    "    return paths"
   ]
  },
  {
   "cell_type": "code",
   "execution_count": 5,
   "metadata": {},
   "outputs": [],
   "source": [
    "a1 = 0.342\n",
    "b1 = 0.539\n",
    "s1 = 0.11\n",
    "S1 = 0.69\n",
    "numObs = 45\n",
    "numReps = 10\n",
    "params = array([a1, b1, s1, S1])\n",
    "\n",
    "paths = simulated_supply(params, numObs, numReps)"
   ]
  },
  {
   "cell_type": "code",
   "execution_count": 8,
   "metadata": {},
   "outputs": [
    {
     "data": {
      "text/plain": [
       "array([-0.84611654, -0.4938256 , -0.65396895, -0.5252673 , -0.55187282,\n",
       "       -1.04313386, -0.93510929, -0.67616499, -0.62240371, -0.58191171])"
      ]
     },
     "execution_count": 8,
     "metadata": {},
     "output_type": "execute_result"
    }
   ],
   "source": [
    "## let's look at the last column (i.e. simulated terminal prices)\n",
    "paths[:,-1]"
   ]
  },
  {
   "cell_type": "code",
   "execution_count": 9,
   "metadata": {},
   "outputs": [
    {
     "data": {
      "text/plain": [
       "array([0.42907801, 0.61028721, 0.51997791, 0.59139726, 0.5758703 ,\n",
       "       0.35234874, 0.39254296, 0.5085636 , 0.53665293, 0.55882902])"
      ]
     },
     "execution_count": 9,
     "metadata": {},
     "output_type": "execute_result"
    }
   ],
   "source": [
    "## let's look at dollar prices\n",
    "np.exp(paths[:,-1])"
   ]
  },
  {
   "cell_type": "code",
   "execution_count": 10,
   "metadata": {},
   "outputs": [],
   "source": [
    "## now let's do many thousand reps\n",
    "paths = simulated_supply(params)"
   ]
  },
  {
   "cell_type": "code",
   "execution_count": 11,
   "metadata": {},
   "outputs": [
    {
     "data": {
      "text/plain": [
       "array([[0.69      , 0.67475875, 0.54457289, ..., 0.47508725, 0.54345388,\n",
       "        0.59930819],\n",
       "       [0.69      , 0.57823106, 0.64803434, ..., 0.55060227, 0.45638623,\n",
       "        0.45946208],\n",
       "       [0.69      , 0.80014303, 0.78214281, ..., 0.70772233, 0.63108399,\n",
       "        0.68838526],\n",
       "       ...,\n",
       "       [0.69      , 0.61585421, 0.60198977, ..., 0.52558715, 0.51017534,\n",
       "        0.59860225],\n",
       "       [0.69      , 0.61068551, 0.60249455, ..., 0.59876384, 0.47028992,\n",
       "        0.39611206],\n",
       "       [0.69      , 0.61647036, 0.66352103, ..., 0.66626068, 0.73295236,\n",
       "        0.66358197]])"
      ]
     },
     "execution_count": 11,
     "metadata": {},
     "output_type": "execute_result"
    }
   ],
   "source": [
    "## let's look at the first 10 rows of the last column\n",
    "np.exp(paths[:,:10])"
   ]
  },
  {
   "cell_type": "code",
   "execution_count": 12,
   "metadata": {},
   "outputs": [
    {
     "data": {
      "image/png": "[encoded data removed]",
      "text/plain": [
       "<Figure size 1440x720 with 1 Axes>"
      ]
     },
     "metadata": {
      "needs_background": "light"
     },
     "output_type": "display_data"
    }
   ],
   "source": [
    "## let's plot a histogram\n",
    "plt.hist(np.exp(paths[:,-1]), bins=100);"
   ]
  },
  {
   "cell_type": "code",
   "execution_count": 13,
   "metadata": {},
   "outputs": [],
   "source": [
    "spotT = np.exp(paths[:,-1])"
   ]
  },
  {
   "cell_type": "code",
   "execution_count": 14,
   "metadata": {},
   "outputs": [
    {
     "data": {
      "text/plain": [
       "0.5371651138476731"
      ]
     },
     "execution_count": 14,
     "metadata": {},
     "output_type": "execute_result"
    }
   ],
   "source": [
    "spotT.mean()"
   ]
  },
  {
   "cell_type": "code",
   "execution_count": 15,
   "metadata": {},
   "outputs": [
    {
     "data": {
      "text/plain": [
       "0.10243985816660209"
      ]
     },
     "execution_count": 15,
     "metadata": {},
     "output_type": "execute_result"
    }
   ],
   "source": [
    "spotT.std()"
   ]
  },
  {
   "cell_type": "code",
   "execution_count": null,
   "metadata": {},
   "outputs": [],
   "source": []
  }
 ],
 "metadata": {
  "kernelspec": {
   "display_name": "Python 3",
   "language": "python",
   "name": "python3"
  },
  "language_info": {
   "codemirror_mode": {
    "name": "ipython",
    "version": 3
   },
   "file_extension": ".py",
   "mimetype": "text/x-python",
   "name": "python",
   "nbconvert_exporter": "python",
   "pygments_lexer": "ipython3",
   "version": "3.8.5"
  }
 },
 "nbformat": 4,
 "nbformat_minor": 4
}

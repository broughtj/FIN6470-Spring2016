{
 "cells": [
  {
   "cell_type": "markdown",
   "metadata": {},
   "source": [
    "# __Simulating Supply Tutorial__\n",
    "\n",
    "<br>\n",
    "\n",
    "Finance 6470: Derivatives Markets<br>\n",
    "Tyler J. Brough <br>\n",
    "Last Updated: March 30, 2021 <br>\n",
    "<br>"
   ]
  },
  {
   "cell_type": "code",
   "execution_count": 1,
   "metadata": {},
   "outputs": [],
   "source": [
    "import numpy as np\n",
    "import pandas as pd\n",
    "import matplotlib.pyplot as plt"
   ]
  },
  {
   "cell_type": "markdown",
   "metadata": {},
   "source": [
    "## Simulating the Spot Prices for Heating Oil and Gasoline\n",
    "\n",
    "To simulate a few values from the spot price equation, which is stated as follows:\n",
    "\n",
    "<br>\n",
    "<br>\n",
    "\n",
    "$$\n",
    "\\ln{ \\left( \\frac{S_{i,t}}{S_{i,t-1}} \\right)} = \\alpha_{i} (\\beta_{i} - S_{i,t-1}) + \\varepsilon_{i,t}\n",
    "$$\n",
    "\n",
    "<br>\n",
    "<br>\n",
    "\n",
    "Where $\\varepsilon_{1}, \\varepsilon_{2} \\sim BVN(0,\\sigma_{1}^{2}, 0, \\sigma_{2}^{2}, \\rho)$. For convenience we can rewrite this as:\n",
    "\n",
    "<br>\n",
    "<br>\n",
    "\n",
    "$$\n",
    "\\ln{(S_{i,t})} = \\ln{(S_{i,t-1})} + \\alpha_{i} (\\beta_{i} - S_{i,t-1}) + \\varepsilon_{i,t}\n",
    "$$\n",
    "\n",
    "<br>\n",
    "<br>"
   ]
  },
  {
   "cell_type": "code",
   "execution_count": 2,
   "metadata": {},
   "outputs": [],
   "source": [
    "a1 = 0.342\n",
    "b1 = 0.539\n",
    "s1 = 0.11\n",
    "S1 = 0.69\n",
    "num_reps = 250\n",
    "\n",
    "ln_spot1 = np.zeros(num_reps)\n",
    "ln_spot1[0] = np.log(S1)\n",
    "\n",
    "z1 = np.random.normal(size=num_reps)\n",
    "\n",
    "for t in range(1, num_reps):\n",
    "    ln_spot1[t] = ln_spot1[t-1] + a1 * (b1 - np.exp(ln_spot1[t-1])) + z1[t] * s1"
   ]
  },
  {
   "cell_type": "code",
   "execution_count": 3,
   "metadata": {},
   "outputs": [
    {
     "data": {
      "text/plain": [
       "[<matplotlib.lines.Line2D at 0x7fb0f8d11c10>]"
      ]
     },
     "execution_count": 3,
     "metadata": {},
     "output_type": "execute_result"
    },
    {
     "data": {
      "image/png": "[encoded data removed]",
      "text/plain": [
       "<Figure size 432x288 with 1 Axes>"
      ]
     },
     "metadata": {
      "needs_background": "light"
     },
     "output_type": "display_data"
    }
   ],
   "source": [
    "plt.plot(ln_spot1)"
   ]
  },
  {
   "cell_type": "markdown",
   "metadata": {},
   "source": [
    "## Simulating Correlated Normals\n",
    "\n",
    "Since the disturbance terms are distributed jointly Normal, we need a way to draw from the BVN distribution. It turns out this is pretty easy. \n",
    "\n",
    "<br>\n",
    "\n",
    "Here are the necessary steps to draw two correlated normal random variables. \n",
    "\n",
    "1. Draw $z_{1}$ independently from $N(0,\\sigma_{z_{1}})$\n",
    "2. Next draw $z_{tmp}$ from a standard normal $N(0,1)$\n",
    "3. Create $z_{2}$ that is correlated with $z_{1}$ according to the correlation coeficient $\\rho$\n",
    "\n",
    "<br>\n",
    "\n",
    "We can use the following equation to accomplish the third step:\n",
    "\n",
    "$$\n",
    "z_{2} = z_{1} * \\rho + \\sqrt{(1 - \\rho^{2})} * z_{tmp} * \\sigma_{2}\n",
    "$$\n",
    "\n",
    "<br>\n",
    "\n",
    "We can do this in Python as follows:"
   ]
  },
  {
   "cell_type": "code",
   "execution_count": 12,
   "metadata": {},
   "outputs": [],
   "source": [
    "s1 = 0.11     ## std of heating oil\n",
    "s2 = 0.116    ## std of gasoline\n",
    "rho = 0.705   ## the correlation coef between HO and Gas\n",
    "num_reps = 10000000\n",
    "\n",
    "z1 = np.random.normal(size=num_reps) * s1\n",
    "ztmp = np.random.normal(size=num_reps)\n",
    "z2 = z1 * rho + np.sqrt((1 - rho**2)) * ztmp * s2"
   ]
  },
  {
   "cell_type": "code",
   "execution_count": 13,
   "metadata": {},
   "outputs": [
    {
     "data": {
      "text/plain": [
       "array([[1.        , 0.68591749],\n",
       "       [0.68591749, 1.        ]])"
      ]
     },
     "execution_count": 13,
     "metadata": {},
     "output_type": "execute_result"
    }
   ],
   "source": [
    "np.corrcoef(z1,z2)"
   ]
  },
  {
   "cell_type": "markdown",
   "metadata": {},
   "source": [
    "<br>\n",
    "\n",
    "I prefer to create a function to handle it: \n",
    "\n",
    "<br>"
   ]
  },
  {
   "cell_type": "code",
   "execution_count": 14,
   "metadata": {},
   "outputs": [],
   "source": [
    "def draw_correlated_normals(mn1 = 0.0, sd1 = 1.0, mn2 = 0.0, sd2 = 1.0, rho = 0.5, num_reps = 100):\n",
    "    z1 = np.random.normal(size=num_reps, loc=mn1, scale=sd1)\n",
    "    z2 = np.random.normal(size=num_reps, loc=mn2, scale=sd2)\n",
    "    z2 = rho * z1 + np.sqrt((1.0 - rho**2.0)) * z2\n",
    "    \n",
    "    return (z1,z2)"
   ]
  },
  {
   "cell_type": "code",
   "execution_count": 16,
   "metadata": {},
   "outputs": [
    {
     "data": {
      "text/plain": [
       "array([[1.        , 0.68137477],\n",
       "       [0.68137477, 1.        ]])"
      ]
     },
     "execution_count": 16,
     "metadata": {},
     "output_type": "execute_result"
    }
   ],
   "source": [
    "x1, x2 = draw_correlated_normals(sd1=0.11, sd2=0.116, rho=0.705, num_reps=45000)\n",
    "np.corrcoef(x1, x2)"
   ]
  },
  {
   "cell_type": "markdown",
   "metadata": {},
   "source": [
    "<br>\n",
    "\n",
    "## Simulating Sport Prices for Oil and Gasoline Jointly\n",
    "\n",
    "With this in place, we can now simulate spot prices jointly as follows:\n",
    "\n",
    "<br>"
   ]
  },
  {
   "cell_type": "code",
   "execution_count": 18,
   "metadata": {},
   "outputs": [],
   "source": [
    "## See B&W Table Panel A on page 145\n",
    "a1 = 0.342\n",
    "b1 = 0.539\n",
    "s1 = 0.11\n",
    "S1 = 0.69\n",
    "a2 = 0.391\n",
    "b2 = 0.560\n",
    "s2 = 0.116\n",
    "S2 = 0.80\n",
    "rho = 0.705\n",
    "num_reps = 45\n",
    "\n",
    "ln_spot1 = np.zeros(num_reps) ## HO\n",
    "ln_spot2 = np.zeros(num_reps) ## Gas\n",
    "\n",
    "ln_spot1[0] = np.log(S1)\n",
    "ln_spot2[0] = np.log(S2)\n",
    "\n",
    "\n",
    "z1, z2 = draw_correlated_normals(sd1=s1, sd2=s2, rho=rho, num_reps=num_reps)\n",
    "\n",
    "for t in range(1, num_reps):\n",
    "    ln_spot1[t] = ln_spot1[t-1] + a1 * (b1 - np.exp(ln_spot1[t-1])) + z1[t]\n",
    "    ln_spot2[t] = ln_spot2[t-1] + a2 * (b2 - np.exp(ln_spot2[t-1])) + z2[t] \n",
    "\n",
    "ts = pd.DataFrame({'Heating Oil' : ln_spot1, 'Gasoline' : ln_spot2})"
   ]
  },
  {
   "cell_type": "code",
   "execution_count": 19,
   "metadata": {},
   "outputs": [
    {
     "data": {
      "text/plain": [
       "<AxesSubplot:>"
      ]
     },
     "execution_count": 19,
     "metadata": {},
     "output_type": "execute_result"
    },
    {
     "data": {
      "image/png": "[encoded data removed]",
      "text/plain": [
       "<Figure size 432x288 with 1 Axes>"
      ]
     },
     "metadata": {
      "needs_background": "light"
     },
     "output_type": "display_data"
    }
   ],
   "source": [
    "ts.plot(grid=True)"
   ]
  },
  {
   "cell_type": "code",
   "execution_count": 22,
   "metadata": {},
   "outputs": [
    {
     "data": {
      "text/html": [
       "<div>\n",
       "<style scoped>\n",
       "    .dataframe tbody tr th:only-of-type {\n",
       "        vertical-align: middle;\n",
       "    }\n",
       "\n",
       "    .dataframe tbody tr th {\n",
       "        vertical-align: top;\n",
       "    }\n",
       "\n",
       "    .dataframe thead th {\n",
       "        text-align: right;\n",
       "    }\n",
       "</style>\n",
       "<table border=\"1\" class=\"dataframe\">\n",
       "  <thead>\n",
       "    <tr style=\"text-align: right;\">\n",
       "      <th></th>\n",
       "      <th>Heating Oil</th>\n",
       "      <th>Gasoline</th>\n",
       "    </tr>\n",
       "  </thead>\n",
       "  <tbody>\n",
       "    <tr>\n",
       "      <th>0</th>\n",
       "      <td>-0.371064</td>\n",
       "      <td>-0.223144</td>\n",
       "    </tr>\n",
       "    <tr>\n",
       "      <th>1</th>\n",
       "      <td>-0.561145</td>\n",
       "      <td>-0.578027</td>\n",
       "    </tr>\n",
       "    <tr>\n",
       "      <th>2</th>\n",
       "      <td>-0.628127</td>\n",
       "      <td>-0.620687</td>\n",
       "    </tr>\n",
       "    <tr>\n",
       "      <th>3</th>\n",
       "      <td>-0.773513</td>\n",
       "      <td>-0.716623</td>\n",
       "    </tr>\n",
       "    <tr>\n",
       "      <th>4</th>\n",
       "      <td>-0.636952</td>\n",
       "      <td>-0.669260</td>\n",
       "    </tr>\n",
       "  </tbody>\n",
       "</table>\n",
       "</div>"
      ],
      "text/plain": [
       "   Heating Oil  Gasoline\n",
       "0    -0.371064 -0.223144\n",
       "1    -0.561145 -0.578027\n",
       "2    -0.628127 -0.620687\n",
       "3    -0.773513 -0.716623\n",
       "4    -0.636952 -0.669260"
      ]
     },
     "execution_count": 22,
     "metadata": {},
     "output_type": "execute_result"
    }
   ],
   "source": [
    "ts.head(5)"
   ]
  },
  {
   "cell_type": "code",
   "execution_count": 23,
   "metadata": {},
   "outputs": [
    {
     "data": {
      "text/html": [
       "<div>\n",
       "<style scoped>\n",
       "    .dataframe tbody tr th:only-of-type {\n",
       "        vertical-align: middle;\n",
       "    }\n",
       "\n",
       "    .dataframe tbody tr th {\n",
       "        vertical-align: top;\n",
       "    }\n",
       "\n",
       "    .dataframe thead th {\n",
       "        text-align: right;\n",
       "    }\n",
       "</style>\n",
       "<table border=\"1\" class=\"dataframe\">\n",
       "  <thead>\n",
       "    <tr style=\"text-align: right;\">\n",
       "      <th></th>\n",
       "      <th>Heating Oil</th>\n",
       "      <th>Gasoline</th>\n",
       "    </tr>\n",
       "  </thead>\n",
       "  <tbody>\n",
       "    <tr>\n",
       "      <th>40</th>\n",
       "      <td>-0.346650</td>\n",
       "      <td>-0.473117</td>\n",
       "    </tr>\n",
       "    <tr>\n",
       "      <th>41</th>\n",
       "      <td>-0.325169</td>\n",
       "      <td>-0.475327</td>\n",
       "    </tr>\n",
       "    <tr>\n",
       "      <th>42</th>\n",
       "      <td>-0.340018</td>\n",
       "      <td>-0.381428</td>\n",
       "    </tr>\n",
       "    <tr>\n",
       "      <th>43</th>\n",
       "      <td>-0.331923</td>\n",
       "      <td>-0.511566</td>\n",
       "    </tr>\n",
       "    <tr>\n",
       "      <th>44</th>\n",
       "      <td>-0.514825</td>\n",
       "      <td>-0.635915</td>\n",
       "    </tr>\n",
       "  </tbody>\n",
       "</table>\n",
       "</div>"
      ],
      "text/plain": [
       "    Heating Oil  Gasoline\n",
       "40    -0.346650 -0.473117\n",
       "41    -0.325169 -0.475327\n",
       "42    -0.340018 -0.381428\n",
       "43    -0.331923 -0.511566\n",
       "44    -0.514825 -0.635915"
      ]
     },
     "execution_count": 23,
     "metadata": {},
     "output_type": "execute_result"
    }
   ],
   "source": [
    "ts.tail(5)"
   ]
  },
  {
   "cell_type": "code",
   "execution_count": null,
   "metadata": {},
   "outputs": [],
   "source": []
  }
 ],
 "metadata": {
  "kernelspec": {
   "display_name": "Python 3",
   "language": "python",
   "name": "python3"
  },
  "language_info": {
   "codemirror_mode": {
    "name": "ipython",
    "version": 3
   },
   "file_extension": ".py",
   "mimetype": "text/x-python",
   "name": "python",
   "nbconvert_exporter": "python",
   "pygments_lexer": "ipython3",
   "version": "3.8.5"
  }
 },
 "nbformat": 4,
 "nbformat_minor": 4
}
